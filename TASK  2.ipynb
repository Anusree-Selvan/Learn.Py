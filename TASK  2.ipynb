{
  "nbformat": 4,
  "nbformat_minor": 0,
  "metadata": {
    "colab": {
      "name": "TASK 2.ipynb",
      "provenance": [],
      "include_colab_link": true
    },
    "kernelspec": {
      "name": "python3",
      "display_name": "Python 3"
    },
    "language_info": {
      "name": "python"
    }
  },
  "cells": [
    {
      "cell_type": "markdown",
      "metadata": {
        "id": "view-in-github",
        "colab_type": "text"
      },
      "source": [
        "<a href=\"https://colab.research.google.com/github/Anusree-Selvan/Learn.Py/blob/main/TASK%202.ipynb\" target=\"_parent\"><img src=\"https://colab.research.google.com/assets/colab-badge.svg\" alt=\"Open In Colab\"/></a>"
      ]
    },
    {
      "cell_type": "markdown",
      "metadata": {
        "id": "LsC-2SdxAo8v"
      },
      "source": [
        "1 ) Consider i = 2, Write a program to convert i to float. \n",
        "---\n",
        "\n",
        "    (Expected Output = 2.0 )\n"
      ]
    },
    {
      "cell_type": "code",
      "metadata": {
        "id": "sHcMeA4vCUyp",
        "outputId": "9e42435d-eec6-425a-ff0f-2dac1d874427",
        "colab": {
          "base_uri": "https://localhost:8080/"
        }
      },
      "source": [
        "#please enter the code below this line\n",
        "i=2\n",
        "print(float(i))"
      ],
      "execution_count": 1,
      "outputs": [
        {
          "output_type": "stream",
          "text": [
            "2.0\n"
          ],
          "name": "stdout"
        }
      ]
    },
    {
      "cell_type": "markdown",
      "metadata": {
        "id": "w5XXklMpCZna"
      },
      "source": [
        "2 )Consider x=\"Hello\" and y=\"World\" , then write a program to concatinate the strings to a single string and print the result.\n",
        "            \n",
        "            \n",
        "            \n",
        "            \n",
        "          ( Expected output = Hello World )"
      ]
    },
    {
      "cell_type": "code",
      "metadata": {
        "id": "T72ap7WDD1OD",
        "outputId": "23bcbe2b-3694-4c41-b007-bc2a316edbf8",
        "colab": {
          "base_uri": "https://localhost:8080/"
        }
      },
      "source": [
        "#please enter the code below this line\n",
        "x = \"Hello \"\n",
        "y = \"World\"\n",
        "z = x+y\n",
        "print(z)"
      ],
      "execution_count": 3,
      "outputs": [
        {
          "output_type": "stream",
          "text": [
            "Hello World\n"
          ],
          "name": "stdout"
        }
      ]
    },
    {
      "cell_type": "markdown",
      "metadata": {
        "id": "tnp5Z3JyD7iO"
      },
      "source": [
        "3 ) Consider pi = 3.14 . print the value of pie and its type."
      ]
    },
    {
      "cell_type": "code",
      "metadata": {
        "id": "hQQkH2m4E_Ci",
        "outputId": "85b912d2-642b-431d-f174-587ba77697ca",
        "colab": {
          "base_uri": "https://localhost:8080/"
        }
      },
      "source": [
        "#please enter the code below this line\n",
        "pi = 3.14\n",
        "print(pi)\n",
        "print(type(pi))"
      ],
      "execution_count": 4,
      "outputs": [
        {
          "output_type": "stream",
          "text": [
            "3.14\n",
            "<class 'float'>\n"
          ],
          "name": "stdout"
        }
      ]
    }
  ]
}
