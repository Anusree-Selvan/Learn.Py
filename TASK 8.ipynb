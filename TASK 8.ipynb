{
  "nbformat": 4,
  "nbformat_minor": 0,
  "metadata": {
    "colab": {
      "name": "TASK 8.ipynb",
      "provenance": [],
      "include_colab_link": true
    },
    "kernelspec": {
      "name": "python3",
      "display_name": "Python 3"
    },
    "language_info": {
      "name": "python"
    }
  },
  "cells": [
    {
      "cell_type": "markdown",
      "metadata": {
        "id": "view-in-github",
        "colab_type": "text"
      },
      "source": [
        "<a href=\"https://colab.research.google.com/github/Anusree-Selvan/Learn.Py/blob/main/TASK%208.ipynb\" target=\"_parent\"><img src=\"https://colab.research.google.com/assets/colab-badge.svg\" alt=\"Open In Colab\"/></a>"
      ]
    },
    {
      "cell_type": "markdown",
      "metadata": {
        "id": "slsGswYbJSo7"
      },
      "source": [
        "1. Generate a 3 x 3 matrix using random module."
      ]
    },
    {
      "cell_type": "code",
      "metadata": {
        "id": "GGRQSYyNJW9t",
        "outputId": "765de160-a8a4-42a6-ffea-afe1fd17d8ae",
        "colab": {
          "base_uri": "https://localhost:8080/"
        }
      },
      "source": [
        "#please provide your answer below this line.\n",
        "import numpy as np\n",
        "randommatrix = np.random.rand(3,3)\n",
        "print(randommatrix)"
      ],
      "execution_count": 12,
      "outputs": [
        {
          "output_type": "stream",
          "text": [
            "[[0.51989448 0.47468027 0.47669326]\n",
            " [0.96987006 0.16837122 0.40183463]\n",
            " [0.33433706 0.56385919 0.06592836]]\n"
          ],
          "name": "stdout"
        }
      ]
    },
    {
      "cell_type": "markdown",
      "metadata": {
        "id": "4OB9KFX6JfYA"
      },
      "source": [
        "2. Generate two 4 x 4 matrix using numpy and \n",
        "\n",
        " a) Reshape it to 2 x 8matrix and vertically stack it.\n",
        "\n",
        " b) Reshape it to 2 x 8 matrix and horizontally stack it."
      ]
    },
    {
      "cell_type": "code",
      "metadata": {
        "id": "VoIqYeNWJ4H_",
        "outputId": "abd521d1-a732-4d4e-9151-4f4ab7015501",
        "colab": {
          "base_uri": "https://localhost:8080/"
        }
      },
      "source": [
        "#please provide your answer below this line.\n",
        "import numpy as np\n",
        "m = np.arange(2,18).reshape(4,4)\n",
        "print(m)\n",
        "n = np.arange(5,21).reshape(4,4)\n",
        "print(n)\n",
        "m = np.arange(2,18).reshape(2,8)\n",
        "n = np.arange(5,21).reshape(2,8)\n",
        "i = np.vstack((m,n))\n",
        "print(i)\n",
        "j = np.hstack((m,n))\n",
        "print(j)"
      ],
      "execution_count": 13,
      "outputs": [
        {
          "output_type": "stream",
          "text": [
            "[[ 2  3  4  5]\n",
            " [ 6  7  8  9]\n",
            " [10 11 12 13]\n",
            " [14 15 16 17]]\n",
            "[[ 5  6  7  8]\n",
            " [ 9 10 11 12]\n",
            " [13 14 15 16]\n",
            " [17 18 19 20]]\n",
            "[[ 2  3  4  5  6  7  8  9]\n",
            " [10 11 12 13 14 15 16 17]\n",
            " [ 5  6  7  8  9 10 11 12]\n",
            " [13 14 15 16 17 18 19 20]]\n",
            "[[ 2  3  4  5  6  7  8  9  5  6  7  8  9 10 11 12]\n",
            " [10 11 12 13 14 15 16 17 13 14 15 16 17 18 19 20]]\n"
          ],
          "name": "stdout"
        }
      ]
    }
  ]
}